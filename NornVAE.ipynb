{
 "cells": [
  {
   "cell_type": "code",
   "execution_count": 1,
   "metadata": {
    "collapsed": true
   },
   "outputs": [],
   "source": [
    "import torch\n",
    "import torch.nn as nn\n",
    "from flows import PlanarFlow\n",
    "from torch.distributions.normal import Normal\n",
    "import matplotlib.pyplot as plt\n",
    "import numpy as np\n",
    "from tqdm import tqdm\n",
    "import torch.optim as optim"
   ]
  },
  {
   "cell_type": "code",
   "execution_count": null,
   "outputs": [],
   "source": [
    "class FlowVAE(nn.Module):\n",
    "    def __init__(self, input_size, dim_h, dim_z, n_layer, flows):\n",
    "        \"\"\"\n",
    "        normalizing flow model\n",
    "        :param input_size: shape of the image\n",
    "        :param dim_h: dimension of hidden states\n",
    "        :param dim_z: dimension of latent variable\n",
    "        :param n_layer: number of encoder and decoder layers\n",
    "        :param flows: Flows to transform output of base encoder\n",
    "        \"\"\"\n",
    "        super().__init__()\n",
    "        self.dim_z = dim_z\n",
    "        self.prior = Normal(0., 1.)\n",
    "        self.encoder = nn.Sequential(nn.Linear(input_size[0]*input_size[1], 512), nn.ReLU(True), nn.Linear(512, 256), nn.ReLU(True))\n",
    "        self.mu = nn.Linear(256, dim_z)\n",
    "        self.var = nn.Linear(256, dim_z)\n",
    "\n",
    "        self.decoder = nn.Sequential(nn.Linear(dim_z, 256), nn.ReLU(True), nn.Linear(256, 512), nn.ReLU(True), nn.Linear(512, input_size[0]*input_size[1]))\n",
    "        self.flows = nn.ModuleList(flows)\n",
    "\n",
    "    def forward(self, x):\n",
    "        \"\"\"\n",
    "        Takes data batch, samples num_samples for each data point from base distribution\n",
    "        :param x: data\n",
    "        :return: generated image and kl divergence\n",
    "        \"\"\"\n",
    "        x = self.encoder(x)\n",
    "        mu = self.mu(x)\n",
    "        log_var = self.mu(x)\n",
    "\n",
    "        # reparameterization\n",
    "        sigma = torch.exp(0.5 * log_var)\n",
    "        z = mu + torch.randn_like(mu) * sigma\n",
    "        q = Normal(mu, torch.exp((0.5 * log_var)))\n",
    "        logq = q.log_prob(z)\n",
    "\n",
    "        logp = -0.5 * torch.sum(2 * torch.log(sigma) + np.log(2 * np.pi) + ((z - mu) / sigma) ** 2, dim=1)\n",
    "        for flow in self.flows:\n",
    "            z, logp = flow(z, logp)\n",
    "\n",
    "        kl = - torch.sum(logq, dim=-1) + torch.sum(self.prior.log_prob(z), dim=-1) - logp.view(-1)\n",
    "\n",
    "        # likelihood\n",
    "        output = self.decoder(z)\n",
    "\n",
    "        return output, kl\n",
    "\n",
    "    def sample_img(self):\n",
    "        z = torch.randn(1, self.dim_z)\n",
    "        return self.decoder(z)"
   ],
   "metadata": {
    "collapsed": false,
    "pycharm": {
     "name": "#%%\n"
    }
   }
  },
  {
   "cell_type": "code",
   "execution_count": null,
   "outputs": [],
   "source": [
    "train_loader = None\n",
    "num_epoch = 0\n",
    "dataset = ''\n",
    "def train(model, data_name):\n",
    "    if data_name == 'mnist':\n",
    "        recon_loss = nn.BCELoss()\n",
    "    elif data_name == 'cifar10':\n",
    "        recon_loss = nn.MSELoss()\n",
    "\n",
    "    model.train()\n",
    "    optimizer = optim.Adam(model.parameters(), lr = 0.001)\n",
    "    t = tqdm(enumerate(train_loader), total=len(train_loader))\n",
    "    for epoch in range(num_epoch):\n",
    "        epoch_loss = []\n",
    "        for x in t:\n",
    "            optimizer.zero_grad()\n",
    "            recon, kl = model(x)\n",
    "            loss = recon_loss(recon, x) + kl\n",
    "            loss.backward()\n",
    "            epoch_loss.append(loss.item())\n",
    "            t.set_description(\"Loss %f\" % loss)\n",
    "            optimizer.step()\n",
    "        print('Epoch: {} Loss: {:.4f}'.format(epoch, epoch_loss))\n",
    "\n",
    "def test():\n",
    "    pass"
   ],
   "metadata": {
    "collapsed": false,
    "pycharm": {
     "name": "#%%\n"
    }
   }
  }
 ],
 "metadata": {
  "kernelspec": {
   "display_name": "Python 3",
   "language": "python",
   "name": "python3"
  },
  "language_info": {
   "codemirror_mode": {
    "name": "ipython",
    "version": 2
   },
   "file_extension": ".py",
   "mimetype": "text/x-python",
   "name": "python",
   "nbconvert_exporter": "python",
   "pygments_lexer": "ipython2",
   "version": "2.7.6"
  }
 },
 "nbformat": 4,
 "nbformat_minor": 0
}